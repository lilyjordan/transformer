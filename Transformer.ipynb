{
  "nbformat": 4,
  "nbformat_minor": 0,
  "metadata": {
    "colab": {
      "provenance": [],
      "toc_visible": true,
      "authorship_tag": "ABX9TyNmgd8MuquOueCmIxIn+1zG",
      "include_colab_link": true
    },
    "kernelspec": {
      "name": "python3",
      "display_name": "Python 3"
    },
    "language_info": {
      "name": "python"
    }
  },
  "cells": [
    {
      "cell_type": "markdown",
      "metadata": {
        "id": "view-in-github",
        "colab_type": "text"
      },
      "source": [
        "<a href=\"https://colab.research.google.com/github/lilyjordan/transformer/blob/main/Transformer.ipynb\" target=\"_parent\"><img src=\"https://colab.research.google.com/assets/colab-badge.svg\" alt=\"Open In Colab\"/></a>"
      ]
    },
    {
      "cell_type": "code",
      "source": [],
      "metadata": {
        "id": "6fxB5UHwFMWP"
      },
      "execution_count": null,
      "outputs": []
    },
    {
      "cell_type": "markdown",
      "source": [
        "Here are some first principle questions to answer:\n",
        "\n",
        "## What is different architecturally from the Transformer, vs a normal RNN, like an LSTM? (Specifically, how are recurrence and time managed?)\n",
        "Normal RNNs generate a sequence of hidden states for each subsequent token in the sample, where the next step is generated as a function of the previous hidden state and the current token. They have attention too, but also there is a hidden state, which forces the model to run everything in order. The Transformer just does away with the hidden state business and instead only uses attention. That means each pair of tokens can just look at each other directly, instead of having to pass information over time through the hidden state. This also doesn't have to build on itself, so it can be parallelized.\n",
        "\n",
        "## Attention is defined as, Attention(Q,K,V) = softmax(QK^T/sqrt(d_k))V. What are the dimensions for Q, K, and V? Why do we use this setup? What other combinations could we do with (Q,K) that also output weights?\n",
        "Q stands for Queries, K stands for Keys, V stands for Values. Q and K have dimensions `sequence_length` * $d_k$ and V has dimensions `sequence_length` * $d_v$, where $d_k$ and $d_v$ are hyperparameters. The reason Q and K have the same dimensions is so that we can dot-product them together for each token in the sequence.\n",
        "\n",
        "We could use addition instead of the dot product if we wanted to. Oh also we scale the dot products down by $\\frac{1}{\\sqrt{d_k}}$, but we could alternatively not do that.\n",
        "\n",
        "## Are the dense layers different at each multi-head attention block? Why or why not?\n",
        "No they're different. The intuition is that different blocks can focus on different layers of abstraction.\n",
        "\n",
        "## Why do we have so many skip connections, especially connecting the input of an attention function to the output? Intuitively, what if we didn't?\n",
        "I think this is to avoid vanishing gradients."
      ],
      "metadata": {
        "id": "bngps9Gbga9K"
      }
    },
    {
      "cell_type": "code",
      "execution_count": 46,
      "metadata": {
        "id": "rZA3hE_PfrO5"
      },
      "outputs": [],
      "source": [
        "import numpy as np\n",
        "import math\n",
        "\n",
        "\n",
        "class Transformer:\n",
        "    def __init__(self, key_dimension=64, value_dimension=64, model_dimension=512,\n",
        "                 scaling_factor=10000, num_heads=8, num_layers=6,\n",
        "                 max_sequence_length=512):\n",
        "        \"\"\"\n",
        "        The key_dimension and value_dimension defaults are both chosen\n",
        "        to be model_dimension divided by value_dimension (64 * 8 = 512),\n",
        "        but that choice is somewhat arbitrary, so it isn't hard-coded\n",
        "        into the initialization logic.\n",
        "\n",
        "        I can't tell from the paper what they use for the max sequence length,\n",
        "        or even whether they use a single uniform max sequence length; TODO\n",
        "        figure that out?\n",
        "        \"\"\"\n",
        "        self.key_dimension = key_dimension\n",
        "        self.value_dimension = value_dimension\n",
        "        self.model_dimension = model_dimension\n",
        "        self.scaling_factor = scaling_factor\n",
        "        self.num_heads = num_heads\n",
        "        self.num_layers = num_layers\n",
        "        self.max_sequence_length = max_sequence_length\n",
        "\n",
        "\n",
        "    def train(self):\n",
        "        raise NotImplementedError\n",
        "\n",
        "\n",
        "    def computePositionalEmbeddingMatrix(self):\n",
        "        return np.fromfunction(\n",
        "            np.vectorize(self.computePositionalEmbedding),\n",
        "            (self.max_sequence_length, self.model_dimension)\n",
        "        )\n",
        "\n",
        "\n",
        "    def computePositionalEmbedding(self, token_index, embedding_index):\n",
        "        if embedding_index % 2 == 0:\n",
        "            return math.sin(self.scalePositionalEmbedding(token_index, embedding_index))\n",
        "        else:\n",
        "            return math.cos(self.scalePositionalEmbedding(token_index, embedding_index - 1))\n",
        "\n",
        "\n",
        "    def scalePositionalEmbedding(self, token_index, embedding_index):\n",
        "        return token_index / (\n",
        "            self.scaling_factor ** (embedding_index / self.model_dimension)\n",
        "        )\n",
        "\n",
        "\n",
        "    def mask(self):\n",
        "        raise NotImplementedError\n",
        "\n",
        "\n",
        "class TransformerLayer:\n",
        "    def __init__(self):\n",
        "        pass\n",
        "\n",
        "\n",
        "class AttentionBlock:\n",
        "    def __init__(self):\n",
        "        pass\n",
        "\n",
        "\n",
        "    def computeAttention(self, queries, keys, values):\n",
        "        queries * np.transpose(keys) / math.sqrt(keys.shape[1])\n",
        "\n",
        "\n",
        "    def softmax(self, vec):\n",
        "        sum_of_exps = np.sum(np.exp(vec))\n",
        "        return np.exp(vec) / sum_of_exps\n",
        "\n",
        "\n",
        "class FeedForwardNetwork:\n",
        "    def __init__(self):\n",
        "        pass\n"
      ]
    },
    {
      "cell_type": "code",
      "source": [
        "a = AttentionBlock()\n",
        "softmax = a.softmax(np.array([0, 1]))\n",
        "total = np.sum(softmax)\n",
        "print(softmax, total)"
      ],
      "metadata": {
        "colab": {
          "base_uri": "https://localhost:8080/"
        },
        "id": "rHdVVQksFmjK",
        "outputId": "3f63e256-3a2d-4ec5-bf34-463a49e43709"
      },
      "execution_count": 53,
      "outputs": [
        {
          "output_type": "stream",
          "name": "stdout",
          "text": [
            "[0.26894142 0.73105858] 1.0\n"
          ]
        }
      ]
    },
    {
      "cell_type": "markdown",
      "source": [
        "tests"
      ],
      "metadata": {
        "id": "NWvHuIV_2hBO"
      }
    },
    {
      "cell_type": "code",
      "source": [
        "t = Transformer(max_sequence_length=10, model_dimension=60)\n",
        "PE = t.computePositionalEmbeddingMatrix()"
      ],
      "metadata": {
        "id": "s8_iBwjx2hjE"
      },
      "execution_count": 37,
      "outputs": []
    },
    {
      "cell_type": "markdown",
      "source": [
        "let's graph the positional embeddings"
      ],
      "metadata": {
        "id": "lR3UIYgT8x5C"
      }
    },
    {
      "cell_type": "code",
      "source": [
        "import matplotlib.pyplot as plt\n",
        "\n",
        "plt.figure(figsize=(12,8))\n",
        "plt.pcolormesh(PE, cmap='viridis')\n",
        "\n",
        "plt.xlabel('Embedding Index')\n",
        "plt.xlim((0, t.model_dimension))\n",
        "plt.ylabel('Token Index')\n",
        "plt.ylim((t.max_sequence_length,0))\n",
        "\n",
        "plt.colorbar()\n",
        "plt.show()"
      ],
      "metadata": {
        "colab": {
          "base_uri": "https://localhost:8080/",
          "height": 721
        },
        "id": "isMMGAX68wOT",
        "outputId": "b2b3217a-efae-48fb-818f-bac58fc7f870"
      },
      "execution_count": 43,
      "outputs": [
        {
          "output_type": "display_data",
          "data": {
            "text/plain": [
              "<Figure size 1200x800 with 2 Axes>"
            ],
            "image/png": "[encoded data removed]"
          },
          "metadata": {}
        }
      ]
    },
    {
      "cell_type": "markdown",
      "source": [
        "great, it matches the reference graph from [here](https://github.com/jalammar/jalammar.github.io/blob/master/notebookes/transformer/transformer_positional_encoding_graph.ipynb)."
      ],
      "metadata": {
        "id": "IlXuFMJeAJsj"
      }
    },
    {
      "cell_type": "code",
      "source": [
        "!apt-get install git"
      ],
      "metadata": {
        "colab": {
          "base_uri": "https://localhost:8080/"
        },
        "id": "9I4KZOoPSrlw",
        "outputId": "145dea67-8a2c-4f7d-dfc8-8533d550bc33"
      },
      "execution_count": 54,
      "outputs": [
        {
          "output_type": "stream",
          "name": "stdout",
          "text": [
            "Reading package lists... Done\n",
            "Building dependency tree... Done\n",
            "Reading state information... Done\n",
            "git is already the newest version (1:2.34.1-1ubuntu1.11).\n",
            "0 upgraded, 0 newly installed, 0 to remove and 45 not upgraded.\n"
          ]
        }
      ]
    }
  ]
}